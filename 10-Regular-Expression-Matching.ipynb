{
 "cells": [
  {
   "cell_type": "markdown",
   "metadata": {},
   "source": [
    "# Leetcode Problem 10. Regular Expression Matching"
   ]
  },
  {
   "cell_type": "markdown",
   "metadata": {},
   "source": [
    "Given an input string (s) and a pattern (p), implement regular expression matching with support for '.' and '*'.\n",
    "```\n",
    "'.' Matches any single character.\n",
    "'*' Matches zero or more of the preceding element.\n",
    "The matching should cover the **entire** input string (not partial).\n",
    "```\n",
    "**Note:**\n",
    "\n",
    "- s could be empty and contains only lowercase letters a-z.\n",
    "- p could be empty and contains only lowercase letters a-z, and characters like . or *.\n",
    "\n",
    "**Example 1:**\n",
    "```\n",
    "Input:\n",
    "s = \"aa\"\n",
    "p = \"a\"\n",
    "Output: false\n",
    "Explanation: \"a\" does not match the entire string \"aa\".\n",
    "```\n",
    "**Example 2:**\n",
    "```\n",
    "Input:\n",
    "s = \"aa\"\n",
    "p = \"a*\"\n",
    "Output: true\n",
    "Explanation: '*' means zero or more of the preceding element, 'a'. Therefore, by repeating 'a' once, it becomes \"aa\".\n",
    "```\n",
    "**Example 3:**\n",
    "```\n",
    "Input:\n",
    "s = \"ab\"\n",
    "p = \".*\"\n",
    "Output: true\n",
    "Explanation: \".*\" means \"zero or more (*) of any character (.)\".\n",
    "```\n",
    "**Example 4:**\n",
    "```\n",
    "Input:\n",
    "s = \"aab\"\n",
    "p = \"c*a*b\"\n",
    "Output: true\n",
    "Explanation: c can be repeated 0 times, a can be repeated 1 time. Therefore, it matches \"aab\".\n",
    "```\n",
    "**Example 5:**\n",
    "```\n",
    "Input:\n",
    "s = \"mississippi\"\n",
    "p = \"mis*is*p*.\"\n",
    "Output: false\n",
    "```"
   ]
  },
  {
   "cell_type": "markdown",
   "metadata": {},
   "source": [
    "### Approach 1: Dynamic Programming"
   ]
  },
  {
   "cell_type": "markdown",
   "metadata": {},
   "source": [
    "***Top down variation***"
   ]
  },
  {
   "cell_type": "code",
   "execution_count": 1,
   "metadata": {},
   "outputs": [],
   "source": [
    "class Solution(object):\n",
    "    def isMatch(self, s, p):\n",
    "        # The DP table and the string s and p use the same indexes i and j, but\n",
    "        # table[i][j] means the match status between p[:i] and s[:j], i.e.\n",
    "        # table[0][0] means the match status of two empty strings, and\n",
    "        # table[1][1] means the match status of p[0] and s[0]. Therefore, when\n",
    "        # refering to the i-th and the j-th characters of p and s for updating\n",
    "        # table[i][j], we use p[i - 1] and s[j - 1].\n",
    "\n",
    "        # Initialize the table with False. The first row is satisfied.\n",
    "        table = [[False] * (len(s) + 1) for _ in range(len(p) + 1)]\n",
    "\n",
    "        # Update the corner case of matching two empty strings.\n",
    "        table[0][0] = True\n",
    "\n",
    "        # Update the corner case of when s is an empty string but p is not.\n",
    "        # Since each '*' can eliminate the charter before it, the table is\n",
    "        # vertically updated by the one before previous. [test_symbol_0]\n",
    "        for i in range(2, len(p) + 1):\n",
    "            table[i][0] = table[i - 2][0] and p[i - 1] == '*'\n",
    "\n",
    "        for i in range(1, len(p) + 1):\n",
    "            for j in range(1, len(s) + 1):\n",
    "                if p[i - 1] != \"*\":\n",
    "                    # Update the table by referring the diagonal element.\n",
    "                    table[i][j] = table[i - 1][j - 1] and \\\n",
    "                                  (p[i - 1] == s[j - 1] or p[i - 1] == '.')\n",
    "                else:\n",
    "                    # Eliminations (referring to the vertical element)\n",
    "                    # Either refer to the one before previous or the previous.\n",
    "                    # I.e. * eliminate the previous or count the previous.\n",
    "                    # p[i - 2] (previous pattern char) appears zero times or just exactly one time\n",
    "                    table[i][j] = table[i - 2][j] or table[i - 1][j]\n",
    "\n",
    "                    # Propagations (referring to the horizontal element)\n",
    "                    # If p's previous one is equal to the current s, with\n",
    "                    # helps of *, the status can be propagated from the left.\n",
    "                    # look for propogation to the left, any repeation after '*'\n",
    "                    if p[i - 2] == s[j - 1] or p[i - 2] == '.':\n",
    "                        table[i][j] |= table[i][j - 1]\n",
    "\n",
    "        return table[-1][-1]"
   ]
  },
  {
   "cell_type": "markdown",
   "metadata": {},
   "source": [
    "***Bottom up variation***"
   ]
  },
  {
   "cell_type": "code",
   "execution_count": 2,
   "metadata": {},
   "outputs": [],
   "source": [
    "class Solution(object):\n",
    "    def isMatch(self, text, pattern):\n",
    "        dp = [[False] * (len(pattern) + 1) for _ in range(len(text) + 1)]\n",
    "\n",
    "        dp[-1][-1] = True\n",
    "        for i in range(len(text), -1, -1):\n",
    "            for j in range(len(pattern) - 1, -1, -1):\n",
    "                first_match = i < len(text) and pattern[j] in {text[i], '.'}\n",
    "                if j+1 < len(pattern) and pattern[j+1] == '*':\n",
    "                    dp[i][j] = dp[i][j+2] or first_match and dp[i+1][j]\n",
    "                else:\n",
    "                    dp[i][j] = first_match and dp[i+1][j+1]\n",
    "\n",
    "        return dp[0][0]"
   ]
  },
  {
   "cell_type": "markdown",
   "metadata": {},
   "source": [
    "**Complexity Analysis**\n",
    "\n",
    "- Time Complexity: Let $T,P$ be the lengths of the text and the pattern respectively. The work for every call to table(i, j) for $i=0,...,T; j=0,...,P$ is done once, and it is $O(1)$ work. Hence, the time complexity is $O(TP)$.\n",
    "\n",
    "- Space Complexity: The only memory we use is the $O(TP)$ boolean entries in our cache. Hence, the space complexity is $O(TP)$.\n",
    "\n"
   ]
  }
 ],
 "metadata": {
  "kernelspec": {
   "display_name": "Python 2",
   "language": "python",
   "name": "python2"
  },
  "language_info": {
   "codemirror_mode": {
    "name": "ipython",
    "version": 3
   },
   "file_extension": ".py",
   "mimetype": "text/x-python",
   "name": "python",
   "nbconvert_exporter": "python",
   "pygments_lexer": "ipython3",
   "version": "3.7.1"
  }
 },
 "nbformat": 4,
 "nbformat_minor": 2
}
