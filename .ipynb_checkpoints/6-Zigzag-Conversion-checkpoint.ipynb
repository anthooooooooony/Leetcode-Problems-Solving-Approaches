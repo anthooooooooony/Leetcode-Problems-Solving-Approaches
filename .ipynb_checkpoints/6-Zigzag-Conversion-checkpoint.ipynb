{
 "cells": [
  {
   "cell_type": "markdown",
   "metadata": {},
   "source": [
    "# Leetcode Problem 6. Zigzag Conversion"
   ]
  },
  {
   "cell_type": "markdown",
   "metadata": {},
   "source": [
    "The string \"PAYPALISHIRING\" is written in a zigzag pattern on a given number of rows like this: (you may want to display this pattern in a fixed font for better legibility)\n",
    "```\n",
    "P   A   H   N\n",
    "A P L S I I G\n",
    "Y   I   R\n",
    "```\n",
    "And then read line by line: \"PAHNAPLSIIGYIR\"\n",
    "\n",
    "Write the code that will take a string and make this conversion given a number of rows:\n",
    "```\n",
    "string convert(string s, int numRows);\n",
    "```\n",
    "\n",
    "**Example 1:**\n",
    "```\n",
    "Input: s = \"PAYPALISHIRING\", numRows = 3\n",
    "Output: \"PAHNAPLSIIGYIR\"\n",
    "```\n",
    "\n",
    "**Example 2:**\n",
    "```\n",
    "Input: s = \"PAYPALISHIRING\", numRows = 4\n",
    "Output: \"PINALSIGYAHRPI\"\n",
    "Explanation:\n",
    "\n",
    "P     I    N\n",
    "A   L S  I G\n",
    "Y A   H R\n",
    "P     I\n",
    "```"
   ]
  },
  {
   "cell_type": "markdown",
   "metadata": {},
   "source": [
    "### Approach 1:  Sort by Row"
   ]
  },
  {
   "cell_type": "markdown",
   "metadata": {},
   "source": [
    "**Intuition**\n",
    "\n",
    "By iterating through the string from left to right, we can easily determine which row in the Zig-Zag pattern that a character belongs to.\n",
    "\n",
    "**Algorithm**\n",
    "\n",
    "We can use $min(numRows,len(s))$ lists to represent the non-empty rows of the Zig-Zag Pattern.\n",
    "\n",
    "Iterate through ss from left to right, appending each character to the appropriate row. The appropriate row can be tracked using two variables: the current row and the current direction.\n",
    "\n",
    "The current direction changes only when we moved up to the topmost row or moved down to the bottommost row."
   ]
  },
  {
   "cell_type": "code",
   "execution_count": 4,
   "metadata": {},
   "outputs": [],
   "source": [
    "class Solution(object):\n",
    "    def convert(self, s, numRows):\n",
    "        step = (numRows == 1) - 1  # 0 or -1, row direction identifier\n",
    "        rows, idx = [''] * numRows, 0\n",
    "        for c in s:\n",
    "            rows[idx] += c\n",
    "            if idx == 0 or idx == numRows-1:\n",
    "                step = -step  #change direction\n",
    "            idx += step\n",
    "        return ''.join(rows)"
   ]
  },
  {
   "cell_type": "markdown",
   "metadata": {},
   "source": [
    "**Complexity Analysis**\n",
    "\n",
    "- Time Complexity : $O(n)$, where $n==len(s)$\n",
    "- Space Complexity : $O(n)$"
   ]
  },
  {
   "cell_type": "markdown",
   "metadata": {},
   "source": [
    "### Approach 2: Visit by Row"
   ]
  },
  {
   "cell_type": "markdown",
   "metadata": {},
   "source": [
    "**Intuition**\n",
    "\n",
    "Visit the characters in the same order as reading the Zig-Zag pattern line by line.\n",
    "\n",
    "**Algorithm**\n",
    "\n",
    "Visit all characters in row 0 first, then row 1, then row 2, and so on...\n",
    "\n",
    "For all whole numbers $k$,\n",
    "\n",
    "- Characters in row $0$ are located at indexes $k(2⋅numRows−2)$\n",
    "- Characters in row $numRows−1$ are located at indexes $k(2⋅numRows−2)+numRows−1$\n",
    "- Characters in inner row $i$ are located at indexes $k(2⋅numRows−2)+i$ and $(k+1)(2⋅numRows−2)−i$"
   ]
  },
  {
   "cell_type": "code",
   "execution_count": 3,
   "metadata": {},
   "outputs": [],
   "source": [
    "class Solution(object):\n",
    "    def convert(self, s, numRows):\n",
    "        \"\"\"\n",
    "        :type s: str\n",
    "        :type numRows: int\n",
    "        :rtype: str\n",
    "        \"\"\"\n",
    "        if numRows == 1:\n",
    "            return s\n",
    "\n",
    "        cycle_len = numRows * 2 - 2\n",
    "        ans = ''\n",
    "        for i in range(numRows):\n",
    "            for j in range(0, len(s) - i, cycle_len):\n",
    "                ans += s[j + i]\n",
    "                # characters on 'slope', not in first and last row and index ensured less than the length of input \n",
    "                # string \n",
    "                if i != 0 and i != numRows - 1 and j + cycle_len - i < len(s):\n",
    "                    ans += s[j + cycle_len - i]\n",
    "        return ans"
   ]
  },
  {
   "cell_type": "markdown",
   "metadata": {},
   "source": [
    "**Complexity Analysis**\n",
    "\n",
    "- Time Complexity : $O(n)$, where $n==len(s)$. Each index is visited once.\n",
    "- Space Complexity : $O(n)$. For the cpp implementation, $O(1)$ if return string is not considered extra space."
   ]
  },
  {
   "cell_type": "code",
   "execution_count": null,
   "metadata": {},
   "outputs": [],
   "source": []
  }
 ],
 "metadata": {
  "kernelspec": {
   "display_name": "Python 2",
   "language": "python",
   "name": "python2"
  },
  "language_info": {
   "codemirror_mode": {
    "name": "ipython",
    "version": 3
   },
   "file_extension": ".py",
   "mimetype": "text/x-python",
   "name": "python",
   "nbconvert_exporter": "python",
   "pygments_lexer": "ipython3",
   "version": "3.7.1"
  }
 },
 "nbformat": 4,
 "nbformat_minor": 2
}
