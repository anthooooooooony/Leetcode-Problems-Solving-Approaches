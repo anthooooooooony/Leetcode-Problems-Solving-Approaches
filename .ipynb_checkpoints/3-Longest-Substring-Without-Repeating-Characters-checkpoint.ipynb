{
 "cells": [
  {
   "cell_type": "markdown",
   "metadata": {},
   "source": [
    "# Leetcode Problem 3. Longest Substring Without Repeating Characters"
   ]
  },
  {
   "cell_type": "markdown",
   "metadata": {},
   "source": [
    "Given a string, find the length of the longest substring without repeating characters.\n",
    "\n",
    "**Example 1:**\n",
    "```\n",
    "Input: \"abcabcbb\"\n",
    "Output: 3 \n",
    "Explanation: The answer is \"abc\", with the length of 3. \n",
    "```\n",
    "\n",
    "**Example 2:**\n",
    "```\n",
    "Input: \"bbbbb\"\n",
    "Output: 1\n",
    "Explanation: The answer is \"b\", with the length of 1.\n",
    "```\n",
    "\n",
    "**Example 3:**\n",
    "```\n",
    "Input: \"pwwkew\"\n",
    "Output: 3\n",
    "Explanation: The answer is \"wke\", with the length of 3. Note that the answer must be a substring, \"pwke\" is a subsequence and not a substring.\n",
    "```"
   ]
  },
  {
   "cell_type": "markdown",
   "metadata": {},
   "source": [
    "### Approach 1: Sliding Window"
   ]
  },
  {
   "cell_type": "code",
   "execution_count": 1,
   "metadata": {},
   "outputs": [],
   "source": [
    "class Solution(object):\n",
    "    def lengthOfLongestSubstring(self, s):\n",
    "        \"\"\"\n",
    "        :type s: str\n",
    "        :rtype: int\n",
    "        \"\"\"\n",
    "        lookup = set()\n",
    "        ans, i, j = 0, 0, 0\n",
    "        while i < len(s) and j < len(s):\n",
    "            if not s[j] in lookup:\n",
    "                lookup.add(s[j])\n",
    "                j += 1\n",
    "                ans = max(ans, j - i)\n",
    "            else:\n",
    "                lookup.remove(s[i])\n",
    "                i += 1\n",
    "        return ans"
   ]
  },
  {
   "cell_type": "markdown",
   "metadata": {},
   "source": [
    "**Complexity Analysis**\n",
    "\n",
    "- Time complexity : $O(2n) = O(n)$. In the worst case each character will be visited twice by $i$ and $j$.\n",
    "\n",
    "- Space complexity : $O(min(m,n))$. Same as the previous approach. We need $O(k)$ space for the sliding window, where $k$ is the size of the Set. The size of the Set is upper bounded by the size of the string $n$ and the size of the charset/alphabet $m$."
   ]
  },
  {
   "cell_type": "markdown",
   "metadata": {},
   "source": [
    "### Approach 2: Optimized Sliding Window"
   ]
  },
  {
   "cell_type": "markdown",
   "metadata": {},
   "source": [
    "The above solution requires at most 2n steps. In fact, it could be optimized to require only n steps. Instead of using a set to tell if a character exists or not, we could define a mapping of the characters to its index. Then we can skip the characters immediately when we found a repeated character."
   ]
  },
  {
   "cell_type": "code",
   "execution_count": 3,
   "metadata": {},
   "outputs": [],
   "source": [
    "class Solution(object):\n",
    "    def lengthOfLongestSubstring(self, s):\n",
    "        hashmap, ans, i = {}, 0, 0\n",
    "        for j in range(len(s)):\n",
    "            if s[j] in hashmap:\n",
    "                i = max(hashmap[s[j]], i)\n",
    "            ans = max(ans, j - i + 1)\n",
    "            hashmap[s[j]] = j + 1 # j + 1 index records starting pos of next i         \n",
    "        return ans"
   ]
  },
  {
   "cell_type": "markdown",
   "metadata": {},
   "source": [
    "**Complexity Analysis**\n",
    "\n",
    "- Time complexity : $O(n)$. Index $j$ will iterate $n$ times.\n",
    "\n",
    "- Space complexity : $O(min(m,n))$. Same as the previous approach."
   ]
  },
  {
   "cell_type": "code",
   "execution_count": null,
   "metadata": {},
   "outputs": [],
   "source": []
  }
 ],
 "metadata": {
  "kernelspec": {
   "display_name": "Python 2",
   "language": "python",
   "name": "python2"
  },
  "language_info": {
   "codemirror_mode": {
    "name": "ipython",
    "version": 3
   },
   "file_extension": ".py",
   "mimetype": "text/x-python",
   "name": "python",
   "nbconvert_exporter": "python",
   "pygments_lexer": "ipython3",
   "version": "3.7.1"
  }
 },
 "nbformat": 4,
 "nbformat_minor": 2
}
