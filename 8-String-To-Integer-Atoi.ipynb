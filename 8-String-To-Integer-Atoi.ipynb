{
 "cells": [
  {
   "cell_type": "markdown",
   "metadata": {},
   "source": [
    "# Leetcode Problem 8. String To Integer Atoi"
   ]
  },
  {
   "cell_type": "markdown",
   "metadata": {},
   "source": [
    "Implement atoi which converts a string to an integer.\n",
    "\n",
    "The function first discards as many whitespace characters as necessary until the first non-whitespace character is found. Then, starting from this character, takes an optional initial plus or minus sign followed by as many numerical digits as possible, and interprets them as a numerical value.\n",
    "\n",
    "The string can contain additional characters after those that form the integral number, which are ignored and have no effect on the behavior of this function.\n",
    "\n",
    "If the first sequence of non-whitespace characters in str is not a valid integral number, or if no such sequence exists because either str is empty or it contains only whitespace characters, no conversion is performed.\n",
    "\n",
    "If no valid conversion could be performed, a zero value is returned.\n",
    "\n",
    "Note:\n",
    "\n",
    "- Only the space character ' ' is considered as whitespace character.\n",
    "Assume we are dealing with an environment which could only store integers within the 32-bit signed integer range: $[−2^{31},  2^{31} − 1]$.\n",
    "- If the numerical value is out of the range of representable values, INT_MAX ($2^{31} − 1$) or INT_MIN ($−2^{31}$) is returned.\n",
    "\n",
    "**Example 1:**\n",
    "```\n",
    "Input: \"42\"\n",
    "Output: 42\n",
    "```\n",
    "\n",
    "**Example 2:**\n",
    "```\n",
    "Input: \"   -42\"\n",
    "Output: -42\n",
    "Explanation: The first non-whitespace character is '-', which is the minus sign. Then take as many numerical digits as possible, which gets 42.\n",
    "```\n",
    "\n",
    "**Example 3:**\n",
    "```\n",
    "Input: \"4193 with words\"\n",
    "Output: 4193\n",
    "Explanation: Conversion stops at digit '3' as the next character is not a numerical digit.\n",
    "```\n",
    "\n",
    "**Example 4:**\n",
    "```\n",
    "Input: \"words and 987\"\n",
    "Output: 0\n",
    "Explanation: The first non-whitespace character is 'w', which is not a numerical digit or a +/- sign. Therefore no valid conversion could be performed.\n",
    "```\n",
    "\n",
    "**Example 5:**\n",
    "```\n",
    "Input: \"-91283472332\"\n",
    "Output: -2147483648\n",
    "Explanation: The number \"-91283472332\" is out of the range of a 32-bit signed integer. Thefore INT_MIN (−2^31) is returned.\n",
    "```"
   ]
  },
  {
   "cell_type": "markdown",
   "metadata": {},
   "source": [
    "### Approach 1"
   ]
  },
  {
   "cell_type": "code",
   "execution_count": 1,
   "metadata": {},
   "outputs": [],
   "source": [
    "class Solution(object):\n",
    "\n",
    "    def myAtoi(self, x):\n",
    "        x = x.strip()\n",
    "        if x == '':\n",
    "            return 0\n",
    "        s = (x[0] == '-')\n",
    "        if s:\n",
    "            s = -1\n",
    "            index = range(1, len(x))\n",
    "        else:\n",
    "            s = 1\n",
    "            if x[0] == '+':\n",
    "                index = range(1, len(x))\n",
    "            else:\n",
    "                index = range(len(x))\n",
    "        ref = ''\n",
    "        for i in index:\n",
    "            try:\n",
    "                ref = ref + str(int(x[i]))\n",
    "            except ValueError:\n",
    "                break\n",
    "        if len(ref) == 0:\n",
    "            return 0\n",
    "        return max(-2**31, min(s * int(ref), 2**31-1))"
   ]
  },
  {
   "cell_type": "markdown",
   "metadata": {},
   "source": [
    "**Complexity Analysis**\n",
    "\n",
    "- Time Complexity : $O(n)$, where $n==len(s)$. Each index is visited once.\n",
    "- Space Complexity : $O(n)$"
   ]
  },
  {
   "cell_type": "code",
   "execution_count": null,
   "metadata": {},
   "outputs": [],
   "source": []
  }
 ],
 "metadata": {
  "kernelspec": {
   "display_name": "Python 2",
   "language": "python",
   "name": "python2"
  },
  "language_info": {
   "codemirror_mode": {
    "name": "ipython",
    "version": 3
   },
   "file_extension": ".py",
   "mimetype": "text/x-python",
   "name": "python",
   "nbconvert_exporter": "python",
   "pygments_lexer": "ipython3",
   "version": "3.7.1"
  }
 },
 "nbformat": 4,
 "nbformat_minor": 2
}
