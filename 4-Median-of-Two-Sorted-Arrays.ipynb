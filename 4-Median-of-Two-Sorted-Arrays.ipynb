{
 "cells": [
  {
   "cell_type": "markdown",
   "metadata": {},
   "source": [
    "# Leetcode Problem 4. Median of Two Sorted Arrays"
   ]
  },
  {
   "cell_type": "markdown",
   "metadata": {},
   "source": [
    "There are two sorted arrays **nums1** and **nums2** of size m and n respectively.\n",
    "\n",
    "Find the median of the two sorted arrays. The overall run time complexity should be $O(log (m+n))$.\n",
    "\n",
    "You may assume **nums1** and **nums2** cannot be both empty.\n",
    "\n",
    "**Example 1:**\n",
    "```\n",
    "nums1 = [1, 3]\n",
    "nums2 = [2]\n",
    "\n",
    "The median is 2.0\n",
    "```\n",
    "\n",
    "**Example 2:**\n",
    "```\n",
    "nums1 = [1, 2]\n",
    "nums2 = [3, 4]\n",
    "\n",
    "The median is (2 + 3)/2 = 2.5\n",
    "```"
   ]
  },
  {
   "cell_type": "markdown",
   "metadata": {},
   "source": [
    "### Approach 1: Recursive Approach"
   ]
  },
  {
   "cell_type": "markdown",
   "metadata": {},
   "source": [
    "https://leetcode.com/problems/median-of-two-sorted-arrays/discuss/2481/Share-my-O(log(min(mn)))-solution-with-explanation"
   ]
  },
  {
   "cell_type": "code",
   "execution_count": 1,
   "metadata": {},
   "outputs": [],
   "source": [
    "class Solution(object):\n",
    "    def findMedianSortedArrays(self, A, B):\n",
    "        \"\"\"\n",
    "        :type nums1: List[int]\n",
    "        :type nums2: List[int]\n",
    "        :rtype: float\n",
    "        \"\"\"\n",
    "        m, n = len(A), len(B)\n",
    "        if m > n:\n",
    "            A, B, m, n = B, A, n, m\n",
    "        if n == 0:\n",
    "            raise ValueError\n",
    "\n",
    "        imin, imax, half_len = 0, m, (m + n + 1) / 2\n",
    "        while imin <= imax:\n",
    "            i = (imin + imax) / 2\n",
    "            j = half_len - i\n",
    "            if i < m and B[j-1] > A[i]:\n",
    "                # i is too small, must increase it\n",
    "                imin = i + 1\n",
    "            elif i > 0 and A[i-1] > B[j]:\n",
    "                # i is too big, must decrease it\n",
    "                imax = i - 1\n",
    "            else:\n",
    "                # i is perfect\n",
    "\n",
    "                if i == 0: max_of_left = B[j-1]\n",
    "                elif j == 0: max_of_left = A[i-1]\n",
    "                else: max_of_left = max(A[i-1], B[j-1])\n",
    "\n",
    "                if (m + n) % 2 == 1:\n",
    "                    return max_of_left\n",
    "\n",
    "                if i == m: min_of_right = B[j]\n",
    "                elif j == n: min_of_right = A[i]\n",
    "                else: min_of_right = min(A[i], B[j])\n",
    "\n",
    "                return (max_of_left + min_of_right) / 2.0"
   ]
  },
  {
   "cell_type": "markdown",
   "metadata": {},
   "source": [
    "**Complexity Analysis**\n",
    "\n",
    "- Time complexity : $O(max(m,n))$. At first, the searching range is $[0, m]$. And the length of this searching range will be reduced by half after each loop. So, we only need $log(m)$ loops. Since we do constant operations in each loop, so the time complexity is $O(log(m))$. Since $m≤n$, so the time complexity is $O(log(min(m,n)))$.\n",
    "\n",
    "- Space complexity : $O(1)$. We only need constant memory to store 99 local variables"
   ]
  },
  {
   "cell_type": "code",
   "execution_count": null,
   "metadata": {},
   "outputs": [],
   "source": []
  }
 ],
 "metadata": {
  "kernelspec": {
   "display_name": "Python 2",
   "language": "python",
   "name": "python2"
  },
  "language_info": {
   "codemirror_mode": {
    "name": "ipython",
    "version": 3
   },
   "file_extension": ".py",
   "mimetype": "text/x-python",
   "name": "python",
   "nbconvert_exporter": "python",
   "pygments_lexer": "ipython3",
   "version": "3.7.1"
  }
 },
 "nbformat": 4,
 "nbformat_minor": 2
}
