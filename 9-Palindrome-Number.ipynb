{
 "cells": [
  {
   "cell_type": "markdown",
   "metadata": {},
   "source": [
    "# Leetcode Problem 9. Palindrome Number"
   ]
  },
  {
   "cell_type": "markdown",
   "metadata": {},
   "source": [
    "Determine whether an integer is a palindrome. An integer is a palindrome when it reads the same backward as forward.\n",
    "\n",
    "**Example 1:**\n",
    "```\n",
    "Input: 121\n",
    "Output: true\n",
    "```\n",
    "\n",
    "**Example 2:**\n",
    "```\n",
    "Input: -121\n",
    "Output: false\n",
    "Explanation: From left to right, it reads -121. From right to left, it becomes 121-. Therefore it is not a palindrome.\n",
    "```\n",
    "\n",
    "**Example 3:**\n",
    "```\n",
    "Input: 10\n",
    "Output: false\n",
    "Explanation: Reads 01 from right to left. Therefore it is not a palindrome.\n",
    "```"
   ]
  },
  {
   "cell_type": "markdown",
   "metadata": {},
   "source": [
    "### Approach 1: Reverse and Compare"
   ]
  },
  {
   "cell_type": "code",
   "execution_count": 1,
   "metadata": {},
   "outputs": [],
   "source": [
    "class Solution(object):\n",
    "    def isPalindrome(self, x):\n",
    "        \"\"\"\n",
    "        :type x: int\n",
    "        :rtype: bool\n",
    "        \"\"\"\n",
    "\n",
    "        if str(x)[0] == '-':\n",
    "            return False\n",
    "        s = str(x)[::-1]\n",
    "        return int(s) == x"
   ]
  },
  {
   "cell_type": "markdown",
   "metadata": {},
   "source": [
    "**Complexity Analysis**\n",
    "\n",
    "- Time Complexity : $O(n)$, the reverse operation [::-1] takes n steps to finish\n",
    "- Space Complexity : $O(n)$, could use $reverse()$ that takes $O(1)$ space"
   ]
  },
  {
   "cell_type": "markdown",
   "metadata": {},
   "source": [
    "### Approach 2: Revert half of the number"
   ]
  },
  {
   "cell_type": "code",
   "execution_count": 2,
   "metadata": {},
   "outputs": [],
   "source": [
    "class Solution(object):\n",
    "    def isPalindrome(self, x):\n",
    "        \"\"\"\n",
    "        :type x: int\n",
    "        :rtype: bool\n",
    "        \"\"\"\n",
    "        \"\"\"\n",
    "         Special cases:\n",
    "         As discussed above, when x < 0, x is not a palindrome.\n",
    "         Also if the last digit of the number is 0, in order to be a palindrome,\n",
    "         the first digit of the number also needs to be 0.\n",
    "         Only 0 satisfy this property.\n",
    "        \"\"\"\n",
    "        if x < 0 or (x % 10 == 0 and x != 0):\n",
    "            return False\n",
    "        reverted_number = 0\n",
    "        while x > reverted_number:\n",
    "            reverted_number = reverted_number * 10 + x % 10\n",
    "            x /= 10\n",
    "        \"\"\"\n",
    "         When the length is an odd number, we can get rid of the middle digit by revertedNumber/10\n",
    "         For example when the input is 12321, at the end of the while loop we get x = 12, revertedNumber = 123,\n",
    "         since the middle digit doesn't matter in palidrome(it will always equal to itself), we can simply get rid of it.\n",
    "        \"\"\"\n",
    "        return x == reverted_number or x == reverted_number / 10"
   ]
  },
  {
   "cell_type": "markdown",
   "metadata": {},
   "source": [
    "**Complexity Analysis**\n",
    "\n",
    "- Time complexity : $O(log_{10}(n))$. We divided the input by 10 for every iteration, so the time complexity is $O(log_{10}(n))$\n",
    "- Space complexity : $O(1)$"
   ]
  },
  {
   "cell_type": "code",
   "execution_count": null,
   "metadata": {},
   "outputs": [],
   "source": []
  }
 ],
 "metadata": {
  "kernelspec": {
   "display_name": "Python 2",
   "language": "python",
   "name": "python2"
  },
  "language_info": {
   "codemirror_mode": {
    "name": "ipython",
    "version": 3
   },
   "file_extension": ".py",
   "mimetype": "text/x-python",
   "name": "python",
   "nbconvert_exporter": "python",
   "pygments_lexer": "ipython3",
   "version": "3.7.1"
  }
 },
 "nbformat": 4,
 "nbformat_minor": 2
}
