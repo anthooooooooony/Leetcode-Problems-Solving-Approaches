{
 "cells": [
  {
   "cell_type": "markdown",
   "metadata": {},
   "source": [
    "# Leetcode Problem 1-Two Sum"
   ]
  },
  {
   "cell_type": "markdown",
   "metadata": {},
   "source": [
    "Given an array of integers, return **indices** of the two numbers such that they add up to a specific target.\n",
    "\n",
    "You may assume that each input would have ***exactly*** one solution, and you may not use the same element twice.\n",
    "\n",
    "**Example:**\n",
    "```\n",
    "Given nums = [2, 7, 11, 15], target = 9,\n",
    "\n",
    "Because nums[0] + nums[1] = 2 + 7 = 9,\n",
    "return [0, 1].\n",
    "```"
   ]
  },
  {
   "cell_type": "markdown",
   "metadata": {},
   "source": [
    "### Approach 1: Brute-Force"
   ]
  },
  {
   "cell_type": "markdown",
   "metadata": {},
   "source": [
    "The brute force approach is simple. Loop through each element $x$ and find if there is another value that equals to $target−x$."
   ]
  },
  {
   "cell_type": "code",
   "execution_count": null,
   "metadata": {},
   "outputs": [],
   "source": [
    "class Solution(object):\n",
    "    def twoSum(self, nums, target):\n",
    "        \"\"\"\n",
    "        :type nums: List[int]\n",
    "        :type target: int\n",
    "        :rtype: List[int]\n",
    "        \"\"\"\n",
    "        for i in range(len(nums)):\n",
    "            for j in range(i + 1, len(nums)):\n",
    "                if nums[i] + nums[j] == target:\n",
    "                    return i, j"
   ]
  },
  {
   "cell_type": "markdown",
   "metadata": {},
   "source": [
    "**Complexity Analysis**\n",
    "\n",
    "- Time complexity : $O(n^2)$. For each element, we try to find its complement by looping through the rest of array which takes $O(n)$ time. Therefore, the time complexity is $O(n^2)$.\n",
    "\n",
    "- Space complexity : $O(1)$. "
   ]
  },
  {
   "cell_type": "markdown",
   "metadata": {},
   "source": [
    "**Result** (submitted 03/04/19)\n",
    "\n",
    "- Runtime: 4840 ms, faster than 14.37% of Python online submissions for Two Sum.\n",
    "- Memory Usage: 12.8 MB, less than 5.02% of Python online submissions for Two Sum."
   ]
  },
  {
   "cell_type": "markdown",
   "metadata": {},
   "source": [
    "### Approach 2: Two-Pass Hash Table"
   ]
  },
  {
   "cell_type": "markdown",
   "metadata": {},
   "source": [
    "To improve our run time complexity, we need a more efficient way to check if the complement exists in the array. If the complement exists, we need to look up its index. What is the best way to maintain a mapping of each element in the array to its index? A hash table.\n",
    "\n",
    "We reduce the look up time from $O(n)$ to $O(1)$ by trading space for speed. A hash table is built exactly for this purpose, it supports fast look up in near constant time. I say \"near\" because if a collision occurred, a look up could degenerate to $O(n)$ time. But look up in hash table should be amortized $O(1)$ time as long as the hash function was chosen carefully.\n",
    "\n",
    "A simple implementation uses two iterations. In the first iteration, we add each element's value and its index to the table. Then, in the second iteration we check if each element's complement $(target - nums[i])$ exists in the table. Beware that the complement must not be $nums[i]$ itself!"
   ]
  },
  {
   "cell_type": "code",
   "execution_count": null,
   "metadata": {},
   "outputs": [],
   "source": [
    "class Solution(object):\n",
    "    def twoSum(self, nums, target):\n",
    "        \"\"\"\n",
    "        :type nums: List[int]\n",
    "        :type target: int\n",
    "        :rtype: List[int]\n",
    "        \"\"\"\n",
    "\n",
    "        h = {}\n",
    "        for i in range(len(nums)):\n",
    "            h[nums[i]] = i\n",
    "        for i in range(len(nums)):\n",
    "            if target - nums[i] in h and h[target - nums[i]] != i:\n",
    "                return i, h[target - nums[i]]"
   ]
  },
  {
   "cell_type": "markdown",
   "metadata": {},
   "source": [
    "**Complexity Analysis:**\n",
    "\n",
    "\n",
    "- Time complexity : $O(n)$. We traverse the list containing nn elements exactly twice. Since the hash table reduces the look up time to $O(1)$, the time complexity is $O(n)$.\n",
    "\n",
    "- Space complexity : $O(n)$. The extra space required depends on the number of items stored in the hash table, which stores exactly nn elements. "
   ]
  },
  {
   "cell_type": "markdown",
   "metadata": {},
   "source": [
    "**Result** (submitted 03/04/19)\n",
    "\n",
    "\n",
    "- Runtime: 68 ms, faster than 49.92% of Python online submissions for Two Sum.\n",
    "- Memory Usage: 13.4 MB, less than 5.02% of Python online submissions for Two Sum."
   ]
  },
  {
   "cell_type": "markdown",
   "metadata": {},
   "source": [
    "### Approach 3: One-Pass Hash Table"
   ]
  },
  {
   "cell_type": "markdown",
   "metadata": {},
   "source": [
    "It turns out we can do it in one-pass. While we iterate and inserting elements into the table, we also look back to check if current element's complement already exists in the table. If it exists, we have found a solution and return immediately."
   ]
  },
  {
   "cell_type": "code",
   "execution_count": null,
   "metadata": {},
   "outputs": [],
   "source": [
    "class Solution(object):\n",
    "    def twoSum(self, nums, target):\n",
    "        \"\"\"\n",
    "        :type nums: List[int]\n",
    "        :type target: int\n",
    "        :rtype: List[int]\n",
    "        \"\"\"\n",
    "        # stores the complent as key and minuend as value for look-up\n",
    "        d = {}\n",
    "        for i, n in enumerate(nums):\n",
    "            # if the complement is in the dictionary then return its index in the list and the index of the minuend\n",
    "            if n in d:\n",
    "                return d[n], i\n",
    "            d[target - n] = i\n",
    "        return 0, 0"
   ]
  },
  {
   "cell_type": "markdown",
   "metadata": {},
   "source": [
    "**Complexity Analysis:**\n",
    "\n",
    "- Time complexity : $O(n)$. We traverse the list containing nn elements only once. Each look up in the table costs only $O(1)$ time.\n",
    "\n",
    "- Space complexity : $O(n)$. The extra space required depends on the number of items stored in the hash table, which stores at most $n$ elements."
   ]
  },
  {
   "cell_type": "markdown",
   "metadata": {},
   "source": [
    "**Result** (submitted 03/04/19)\n",
    "\n",
    "\n",
    "- Runtime: 76 ms, faster than 48.49% of Python online submissions for Two Sum.\n",
    "- Memory Usage: 13.3 MB, less than 5.02% of Python online submissions for Two Sum."
   ]
  }
 ],
 "metadata": {
  "kernelspec": {
   "display_name": "Python 2",
   "language": "python",
   "name": "python2"
  },
  "language_info": {
   "codemirror_mode": {
    "name": "ipython",
    "version": 2
   },
   "file_extension": ".py",
   "mimetype": "text/x-python",
   "name": "python",
   "nbconvert_exporter": "python",
   "pygments_lexer": "ipython2",
   "version": "2.7.16"
  }
 },
 "nbformat": 4,
 "nbformat_minor": 2
}
